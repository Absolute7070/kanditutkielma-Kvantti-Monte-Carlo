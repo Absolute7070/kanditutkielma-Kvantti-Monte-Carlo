{
 "cells": [
  {
   "cell_type": "markdown",
   "id": "f2933d2f-21bd-42f9-8448-dd791acac32e",
   "metadata": {},
   "source": [
    "# Fortran formulae to Python String \n",
    "\n",
    "### Purpose \n",
    "Transform output strings from Mathematica to Fortran-compatible (or FortranParser-module compatible). \n",
    "\n",
    "### Usage \n",
    "Define inputs below and run all cells \n"
   ]
  },
  {
   "cell_type": "code",
   "execution_count": 1,
   "id": "1a428cc7",
   "metadata": {
    "tags": []
   },
   "outputs": [],
   "source": [
    "import re "
   ]
  },
  {
   "cell_type": "code",
   "execution_count": 2,
   "id": "ac70217d-dca4-4f16-9bab-df799c9647d6",
   "metadata": {
    "tags": []
   },
   "outputs": [
    {
     "data": {
      "text/plain": [
       "'2.2.1'"
      ]
     },
     "execution_count": 2,
     "metadata": {},
     "output_type": "execute_result"
    }
   ],
   "source": [
    "re.__version__"
   ]
  },
  {
   "cell_type": "markdown",
   "id": "e71c3965-0d32-41ce-a75c-4982258fcdf5",
   "metadata": {},
   "source": [
    "# User definable variables "
   ]
  },
  {
   "cell_type": "markdown",
   "id": "a0d2f7ce-aa85-4c06-ac07-55811d46e7fb",
   "metadata": {},
   "source": [
    "**Input**: Set absolute paths of Mathematica output files and then where to put Fortran-ready files"
   ]
  },
  {
   "cell_type": "code",
   "execution_count": 34,
   "id": "fd33d378",
   "metadata": {},
   "outputs": [],
   "source": [
    "mathematicaOutputPaths = [\n",
    "    \"/home/degnaiyu/Työpöytä/kanditutkielma/final_codes/python_converter/Formulae_MathematicaOutput/probabilityFunctionFortranForm\", \n",
    "    \"/home/degnaiyu/Työpöytä/kanditutkielma/final_codes/python_converter/Formulae_MathematicaOutput/potentialEnergyLocalEnergyFortranForm\", \n",
    "    \"/home/degnaiyu/Työpöytä/kanditutkielma/final_codes/python_converter/Formulae_MathematicaOutput/kineticEnergy3LocalEnergyFortranForm\", \n",
    "    \"/home/degnaiyu/Työpöytä/kanditutkielma/final_codes/python_converter/Formulae_MathematicaOutput/kineticEnergy2LocalEnergyFortranForm\", \n",
    "    \"/home/degnaiyu/Työpöytä/kanditutkielma/final_codes/python_converter/Formulae_MathematicaOutput/kineticEnergy1LocalEnergyFortranForm\"\n",
    "    ]"
   ]
  },
  {
   "cell_type": "code",
   "execution_count": 35,
   "id": "adfb05ab-d53f-48b0-91ea-44ce1f6cefa5",
   "metadata": {
    "tags": []
   },
   "outputs": [],
   "source": [
    "\n",
    "whereToPut_paths = [\n",
    "    \"/home/degnaiyu/Työpöytä/kanditutkielma/final_codes/python_converter/Formulae_PythonCompatible/probabilityFunctionFortranForm\", \n",
    "    \"/home/degnaiyu/Työpöytä/kanditutkielma/final_codes/python_converter/Formulae_PythonCompatible/potentialEnergyLocalEnergyFortranForm\", \n",
    "    \"/home/degnaiyu/Työpöytä/kanditutkielma/final_codes/python_converter/Formulae_PythonCompatible/kineticEnergy3LocalEnergyFortranForm\", \n",
    "    \"/home/degnaiyu/Työpöytä/kanditutkielma/final_codes/python_converter/Formulae_PythonCompatible/kineticEnergy2LocalEnergyFortranForm\", \n",
    "    \"/home/degnaiyu/Työpöytä/kanditutkielma/final_codes/python_converter/Formulae_PythonCompatible/kineticEnergy1LocalEnergyFortranForm\"\n",
    "    ]\n"
   ]
  },
  {
   "cell_type": "markdown",
   "id": "6011ce56-ec64-49c1-88fb-667f425dc289",
   "metadata": {},
   "source": [
    "## Checklist for formula validity "
   ]
  },
  {
   "cell_type": "markdown",
   "id": "25e0fbdb-b7cb-43e5-8ee7-7c94192eb2c6",
   "metadata": {},
   "source": [
    "**Input (optional)** : We expect that the following do not appear in the output of Mathematica: "
   ]
  },
  {
   "cell_type": "code",
   "execution_count": 36,
   "id": "0951559b-348d-4e8b-affb-84808b18c5d6",
   "metadata": {},
   "outputs": [],
   "source": [
    "checkList = ['Arg']"
   ]
  },
  {
   "cell_type": "markdown",
   "id": "ebe04217-0c84-4f3f-80cb-bfa518b6df50",
   "metadata": {},
   "source": [
    "## Fortran to python dictionary "
   ]
  },
  {
   "cell_type": "markdown",
   "id": "3e4e40d7-1717-40e5-9f54-2234fa7c0268",
   "metadata": {},
   "source": [
    "**Input (optional)**: Not complete! Only supposed to apply to this project. "
   ]
  },
  {
   "cell_type": "code",
   "execution_count": 37,
   "id": "8f928ff6-7a4e-4658-b00e-339539f624b4",
   "metadata": {
    "tags": []
   },
   "outputs": [],
   "source": [
    "mapping = {\n",
    "    'E**': 'exp', \n",
    "    'Sqrt': 'sqrt', \n",
    "    'Abs': 'abs', \n",
    "    '\\n': '' , \n",
    "    \"\\\\\" : '', \n",
    "    '**':'^', \n",
    "}"
   ]
  },
  {
   "cell_type": "markdown",
   "id": "af016b09-05bc-4c67-8ac7-f7c0f7513a49",
   "metadata": {},
   "source": []
  },
  {
   "cell_type": "markdown",
   "id": "2169b747-9216-4a89-8a3c-e2de4170d41c",
   "metadata": {},
   "source": [
    "# Functions "
   ]
  },
  {
   "cell_type": "code",
   "execution_count": 38,
   "id": "57890054-607e-4821-916e-3774f98b70ff",
   "metadata": {},
   "outputs": [],
   "source": [
    "def readFileToString(absolutePath: str) -> str:  \n",
    "    '''\n",
    "    Read file by absolute path. Returns string \n",
    "    \n",
    "    \n",
    "    Parameters\n",
    "    ----------\n",
    "        absolutePath: absolute path of the file \n",
    "        \n",
    "    \n",
    "    Return\n",
    "    ------\n",
    "        Returns the content of the file as string \n",
    "    \n",
    "    '''\n",
    "    \n",
    "    file = open(absolutePath, 'r') \n",
    "    return file.read()\n",
    "\n",
    "\n",
    "\n"
   ]
  },
  {
   "cell_type": "code",
   "execution_count": 39,
   "id": "c5017566-4c23-4323-9788-03d127adabd0",
   "metadata": {},
   "outputs": [],
   "source": [
    "def checkListFunction(string, checkList: list ) -> list: \n",
    "    '''\n",
    "    Check whether there are unwanted elements in string following the checklist of unwanted elements \n",
    "    \n",
    "    \n",
    "    Parameters\n",
    "    ----------\n",
    "        string: string which we are checking \n",
    "        \n",
    "        \n",
    "    Return\n",
    "    ------\n",
    "        list of unwanted elements in the string\n",
    "    \n",
    "    '''\n",
    "    unwantedList = []\n",
    "    \n",
    "    for unwanted in checkList: \n",
    "        if unwanted in string: \n",
    "            unwantedList.append(unwanted)\n",
    "            \n",
    "            \n",
    "    return unwantedList\n",
    "            \n",
    "\n",
    "    \n",
    "    \n",
    "    \n",
    "def printingForUnwantedElements(isLocalEnergy: bool, listOfUnwantedElements: list) -> None: \n",
    "    '''\n",
    "    Printing for unwanted elements in the Mathematica output \n",
    "    '''\n",
    "    \n",
    "    if isLocalEnergy: \n",
    "        prompt = f'Local energy has {len(listOfUnwantedElements)} unwanted elements:'\n",
    "        print(prompt)\n",
    "        print(len(prompt)*'-')\n",
    "        print(listOfUnwantedElements)\n",
    "    else: \n",
    "        prompt = f'Probability function has {len(listOfUnwantedElements)} unwanted elements:'\n",
    "        print(prompt)\n",
    "        print(len(prompt)*'-')\n",
    "        print(listOfUnwantedElements)\n",
    "        \n",
    "                "
   ]
  },
  {
   "cell_type": "code",
   "execution_count": 40,
   "id": "96e5d3b0-24c3-47c1-9ea6-05a4e7d91136",
   "metadata": {},
   "outputs": [],
   "source": [
    "def fortranFormToPythonForm(string: str, mappingDict: dict) -> str: \n",
    "    '''\n",
    "    Transform fortran formula to python formula using the above defined mapping \n",
    "    \n",
    "    \n",
    "    Parameters\n",
    "    ---------\n",
    "        string: input string containing fortran formulae generated by Mathematica \n",
    "        \n",
    "        mappingDict: mapping dictionary, rules for transforming  fortran formulae to python formulae \n",
    "        \n",
    "    Return\n",
    "    ------\n",
    "        string which is the input transformed into python formula\n",
    "    \n",
    "    '''\n",
    "    \n",
    "    transcript = string\n",
    "    \n",
    "    # transforming \n",
    "    for fortranForm, pythonForm in mappingDict.items(): \n",
    "        transcript = transcript.replace(fortranForm, pythonForm)\n",
    "        \n",
    "    return transcript\n",
    "    "
   ]
  },
  {
   "cell_type": "code",
   "execution_count": 41,
   "id": "52e5cdf0-ba72-45ae-86e3-fbbb2fe3707e",
   "metadata": {},
   "outputs": [],
   "source": [
    "def savePythonFormToFile(string: str, absolutePath: str, mode = 'w') -> None:\n",
    "    '''\n",
    "    Save string to a file. Can overwrite or append \n",
    "    \n",
    "    Parameters\n",
    "    ----------\n",
    "         string: string that is to be written to a file \n",
    "         \n",
    "         absolutePath: filename or file absolute path \n",
    "         \n",
    "         mode: writing mode. Whether to add  or overwrite content to a file. \n",
    "         \n",
    "     Return\n",
    "     ------\n",
    "         The file should be created \n",
    "    '''\n",
    "    df = open(absolutePath, mode ) \n",
    "    df.write(string )\n",
    "    df.close()"
   ]
  },
  {
   "cell_type": "code",
   "execution_count": 42,
   "id": "e2771cde",
   "metadata": {},
   "outputs": [],
   "source": [
    "def findVariables(exprStr: str) -> tuple:\n",
    "    '''\n",
    "    Extract variables in expression string. \n",
    "    \n",
    "    Parameters\n",
    "    ---------\n",
    "        exprStr: expression as string. Supposed to be Python-compatible formula (at least Fortran, but not tested)\n",
    "        \n",
    "    \n",
    "    Return\n",
    "    ------\n",
    "    Tuple of two lists. \n",
    "    \n",
    "        First one: alphanumerically-ordered coordinate list e.g.\n",
    "        ['x1', 'x2', 'x3', 'y1', 'y2', 'y3', 'z1', 'z2', 'z3']\n",
    "        \n",
    "        Second one: alphanumerically-ordered  parameters list \n",
    "        e.g. ['A1', 'A2']\n",
    "        \n",
    "    '''\n",
    "    \n",
    "    patternForCoordinates = r'[xyz]{1}[123]{1}'                   # pattern for: x1, x2, y1 etc. \n",
    "    patternForParameters = r'[A-Z]{1}\\d{1}'                # pattern for: A1, A2, ... Z9  \n",
    "    \n",
    "    coordinateList =sorted(list(set( re.findall(patternForCoordinates, exprStr)  )))\n",
    "    parametersList =sorted(list(set(  re.findall(patternForParameters, exprStr) )))\n",
    "    \n",
    "    return coordinateList, parametersList \n",
    "    \n",
    "    "
   ]
  },
  {
   "cell_type": "code",
   "execution_count": 43,
   "id": "13fd46fd",
   "metadata": {},
   "outputs": [],
   "source": [
    "def regroupToCoordinateTriple_findVariables(coordinateList: list, isCoordinateTripletInTuple: bool = False ) -> list: \n",
    "    '''\n",
    "    Regrouping the coordinates from the output of the previous function `findVariables` into form [(x1, y1, z1), (x2, y2, z2)]\n",
    "    \n",
    "    Parameters\n",
    "    ----------\n",
    "        coordinateList: output coordinates from findVariables-function \n",
    "        \n",
    "        isCoordinateTripletInTuple: whether the output coordinate triples be separated by parentheses (see Return)\n",
    "        \n",
    "    Return\n",
    "    ------\n",
    "        list of traditional coordinatetriplets [(x1, y1, z1), (x2, y2, z2)] or in ordered list without parentheses [x1, y1, z1, x2, y2, z2 ]\n",
    "        \n",
    "    Warning\n",
    "    -------\n",
    "        User check that the coordinateList is the output of the function `findVariables` \n",
    "    '''\n",
    "    \n",
    "    tripletList = []   # save all triplets \n",
    "    \n",
    "    \n",
    "    # each particle's components \n",
    "    xCoordinates = []\n",
    "    yCoordinates = []\n",
    "    zCoordinates = []\n",
    "    \n",
    "    \n",
    "    # separating each particle's component into their lists \n",
    "    for component in coordinateList: \n",
    "        if 'x' in component: \n",
    "            xCoordinates.append(component) \n",
    "        elif 'y' in component: \n",
    "            yCoordinates.append(component)\n",
    "        elif 'z' in component:   \n",
    "            zCoordinates.append(component)\n",
    "        else: \n",
    "            raise Exception(\"No other than x,y,z components\")\n",
    "    \n",
    "    \n",
    "    \n",
    "    \n",
    "    if isCoordinateTripletInTuple: \n",
    "        # forming triplets \n",
    "        for x,y,z in zip(xCoordinates, yCoordinates, zCoordinates): \n",
    "            tripletList.append((x,y,z))\n",
    "    else: \n",
    "        # forming ordered list \n",
    "        for x,y,z in zip(xCoordinates, yCoordinates, zCoordinates): \n",
    "            tripletList.append(x)\n",
    "            tripletList.append(y)\n",
    "            tripletList.append(z)\n",
    "        \n",
    "        \n",
    "    return tripletList\n",
    "    \n",
    "    \n",
    "def removeSpaces(expr:str): \n",
    "    return expr.replace(' ', '')\n",
    "    \n",
    "    "
   ]
  },
  {
   "cell_type": "code",
   "execution_count": 44,
   "id": "d5ee2831",
   "metadata": {},
   "outputs": [],
   "source": [
    "# show variables in the function expressions, to be used in Fortran program variable definition \n",
    "def showVariables(functionString: str) -> tuple : \n",
    "\n",
    "    # find coordinates and parameters\n",
    "    coordinates, parameterStringList  = findVariables(functionString)\n",
    "\n",
    "    # regrouping coordinates \n",
    "    coordinates = regroupToCoordinateTriple_findVariables(coordinates)\n",
    "\n",
    "\n",
    "    # for functions usage, define list of ordered variables and parameters\n",
    "    mapping =  coordinates + parameterStringList  # global variable: used in probability and local energy functions definition\n",
    "\n",
    "    return mapping, len(mapping) \n"
   ]
  },
  {
   "cell_type": "code",
   "execution_count": 49,
   "id": "35cc4415-530f-4236-ac20-be21cc2c4dfc",
   "metadata": {
    "tags": []
   },
   "outputs": [],
   "source": [
    "\n",
    "def main(): \n",
    "\n",
    "    functionStrings = [readFileToString(x) for x in mathematicaOutputPaths]   # read mathematica output files to string \n",
    "\n",
    "\n",
    "    functionStrings_transformed = [fortranFormToPythonForm(x, mappingDict=mapping) for x in functionStrings]      # transform to Fortran-compatible expressions \n",
    "\n",
    "    functionStrings_transformed = [removeSpaces(x) for x in functionStrings_transformed] # remove spaces\n",
    "\n",
    "    # save Fortran-ready strings into files \n",
    "    if len(functionStrings_transformed) ==len(whereToPut_paths): \n",
    "        for functionString, path in zip(functionStrings_transformed, whereToPut_paths): \n",
    "            savePythonFormToFile(functionString, absolutePath=path )\n",
    "\n",
    "        print(\"SAVING SUCCESSFUL\")\n",
    "        print(\"Here are the variables in the expressions\")\n",
    "        print(showVariables(functionStrings_transformed[0]))\n",
    "    else: \n",
    "        raise Exception(\"The length of the output path not same as number of function expressions!\")\n",
    "\n",
    "\n",
    "\n"
   ]
  },
  {
   "cell_type": "code",
   "execution_count": null,
   "id": "a3943836",
   "metadata": {},
   "outputs": [],
   "source": []
  },
  {
   "cell_type": "markdown",
   "id": "fc713d9a-c356-4935-8630-e74718a14a32",
   "metadata": {},
   "source": [
    "# Executing the functions "
   ]
  },
  {
   "cell_type": "markdown",
   "id": "bb0ec2be-5cac-405f-905d-cf04b3a48986",
   "metadata": {},
   "source": [
    "Comment out if you have fortran forms from Mathematica: "
   ]
  },
  {
   "cell_type": "code",
   "execution_count": 50,
   "id": "3308d918-b72a-4fdf-8f86-a568b9d999a8",
   "metadata": {},
   "outputs": [
    {
     "name": "stdout",
     "output_type": "stream",
     "text": [
      "SAVING SUCCESSFUL\n",
      "Here are the variables in the expressions\n",
      "(['x1', 'y1', 'z1', 'x2', 'y2', 'z2', 'x3', 'y3', 'z3', 'A1', 'A2', 'A3'], 12)\n"
     ]
    }
   ],
   "source": [
    "main()"
   ]
  },
  {
   "cell_type": "code",
   "execution_count": null,
   "id": "54df488c-016c-4fe8-a1a9-2db037ebabc7",
   "metadata": {},
   "outputs": [],
   "source": []
  },
  {
   "cell_type": "code",
   "execution_count": null,
   "id": "8802cfbe",
   "metadata": {},
   "outputs": [],
   "source": []
  },
  {
   "cell_type": "markdown",
   "id": "16a41081-acdb-43fc-8b21-d4abbd905bd5",
   "metadata": {},
   "source": [
    "# Small testing of eval built-in function "
   ]
  },
  {
   "cell_type": "code",
   "execution_count": null,
   "id": "a604e0ea-4482-4e23-a205-ef2156335db3",
   "metadata": {
    "tags": []
   },
   "outputs": [],
   "source": [
    "\n",
    "# if __name__ == \"__main__\":\n",
    "    \n",
    "\n",
    "#     def probabilityfunction(R: list , parametersList: list ):  \n",
    "#         x1, y1, z1 = R[0]\n",
    "#         x2, y2, z2 = R[1]\n",
    "#         x3, y3, z3 = R[2]\n",
    "\n",
    "#         A1, A2 = parametersList\n",
    "\n",
    "\n",
    "\n",
    "#         return eval(probability_pythonTransformed)\n",
    "    \n",
    "#     import math \n",
    "#     value = probabilityfunction(R = [(1,1,1), (2,2,2), (3,3,3)],\n",
    "#                         parametersList= (1,1) )\n",
    "#     print(value )"
   ]
  },
  {
   "cell_type": "code",
   "execution_count": null,
   "id": "09468e82-016b-41c1-a5c8-b7aac2375c47",
   "metadata": {},
   "outputs": [],
   "source": []
  }
 ],
 "metadata": {
  "kernelspec": {
   "display_name": "Python 3 (ipykernel)",
   "language": "python",
   "name": "python3"
  },
  "language_info": {
   "codemirror_mode": {
    "name": "ipython",
    "version": 3
   },
   "file_extension": ".py",
   "mimetype": "text/x-python",
   "name": "python",
   "nbconvert_exporter": "python",
   "pygments_lexer": "ipython3",
   "version": "3.10.4"
  }
 },
 "nbformat": 4,
 "nbformat_minor": 5
}
