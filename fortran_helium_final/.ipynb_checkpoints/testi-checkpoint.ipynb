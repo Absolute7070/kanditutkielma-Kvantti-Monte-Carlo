{
 "cells": [
  {
   "cell_type": "code",
   "execution_count": 2,
   "metadata": {},
   "outputs": [
    {
     "name": "stderr",
     "output_type": "stream",
     "text": [
      "ERROR:tornado.general:Uncaught exception in ZMQStream callback\n",
      "Traceback (most recent call last):\n",
      "  File \"/usr/lib/python3/dist-packages/jupyter_client/session.py\", line 102, in json_packer\n",
      "    ).encode(\"utf8\")\n",
      "UnicodeEncodeError: 'utf-8' codec can't encode characters in position 536-537: surrogates not allowed\n",
      "\n",
      "During handling of the above exception, another exception occurred:\n",
      "\n",
      "Traceback (most recent call last):\n",
      "  File \"/home/degnaiyu/.local/lib/python3.10/site-packages/zmq/eventloop/zmqstream.py\", line 557, in _run_callback\n",
      "    callback(*args, **kwargs)\n",
      "  File \"/usr/lib/python3/dist-packages/ipykernel/iostream.py\", line 126, in _handle_event\n",
      "    event_f()\n",
      "  File \"/usr/lib/python3/dist-packages/ipykernel/iostream.py\", line 497, in _flush\n",
      "    self.session.send(self.pub_thread, 'stream', content=content,\n",
      "  File \"/usr/lib/python3/dist-packages/jupyter_client/session.py\", line 842, in send\n",
      "    to_send = self.serialize(msg, ident)\n",
      "  File \"/usr/lib/python3/dist-packages/jupyter_client/sessException in callback BaseAsyncIOLoop._handle_events(27, 1)\n",
      "handle: <Handle BaseAsyncIOLoop._handle_events(27, 1)>\n",
      "Traceback (most recent call last):\n",
      "  File \"/usr/lib/python3/dist-packages/jupyter_client/session.py\", line 102, in json_packer\n",
      "    ).encode(\"utf8\")\n",
      "UnicodeEncodeError: 'utf-8' codec can't encode characters in position 536-537: surrogates not allowed\n",
      "\n",
      "During handling of the above exception, another exception occurred:\n",
      "\n",
      "Traceback (most recent call last):\n",
      "  File \"/usr/lib/python3.10/asyncio/events.py\", line 80, in _run\n",
      "    self._context.run(self._callback, *self._args)\n",
      "  File \"/home/degnaiyu/.local/lib/python3.10/site-packages/tornado/platform/asyncio.py\", line 206, in _handle_events\n",
      "    handler_func(fileobj, events)\n",
      "  File \"/home/degnaiyu/.local/lib/python3.10/site-packages/zmq/eventloop/zmqstream.py\", line 578, in _handle_events\n",
      "    self._handle_recv()\n",
      "  File \"/home/degnaiyu/.local/lib/python3.10/site-packages/zmq/eventloop/zmqstream.py\", line 607, in _handle_recv\n",
      "    self._run_callback(callback, msg)\n",
      "  File \"/home/degnaiyu/.local/lib/python3.10/site-packages/zmq/eventloop/zmqstream.py\", line 557, in _run_callback\n",
      "    callback(*args, **kwargs)\n",
      "  File \"/usr/lib/python3/dist-packages/ipykernel/iostream.py\", line 126, in _handle_event\n",
      "    event_f()\n",
      "  File \"/usr/lib/python3/dist-packages/ipykernel/iostream.py\", line 497, in _flush\n",
      "    self.session.send(self.pub_thread, 'stream', content=content,\n",
      "  File \"/usr/lib/python3/dist-packages/jupyter_client/session.py\", line 842, in send\n",
      "    to_send = self.serialize(msg, ident)\n",
      "  File \"/usr/lib/python3/dist-packages/jupyter_client/session.py\", line 716, in serialize\n",
      "    content = self.pack(content)\n",
      "  File \"/usr/lib/python3/dist-packages/jupyter_client/session.py\", line 110, in json_packer\n",
      "    ).encode(\"utf8\")\n",
      "UnicodeEncodeError: 'utf-8' codec can't encode characters in position 536-537: surrogates not allowed\n",
      "ion.py\", line 716, in serialize\n",
      "    content = self.pack(content)\n",
      "  File \"/usr/lib/python3/dist-packages/jupyter_client/session.py\", line 110, in json_packer\n",
      "    ).encode(\"utf8\")\n",
      "UnicodeEncodeError: 'utf-8' codec can't encode characters in position 536-537: surrogates not allowed\n",
      "ERROR:tornado.general:Uncaught exception in zmqstream callback\n",
      "Traceback (most recent call last):\n",
      "  File \"/usr/lib/python3/dist-packages/jupyter_client/session.py\", line 102, in json_packer\n",
      "    ).encode(\"utf8\")\n",
      "UnicodeEncodeError: 'utf-8' codec can't encode characters in position 536-537: surrogates not allowed\n",
      "\n",
      "During handling of the above exception, another exception occurred:\n",
      "\n",
      "Traceback (most recent call last):\n",
      "  File \"/home/degnaiyu/.local/lib/python3.10/site-packages/zmq/eventloop/zmqstream.py\", line 578, in _handle_events\n",
      "    self._handle_recv()\n",
      "  File \"/home/degnaiyu/.local/lib/python3.10/site-packages/zmq/eventloop/zmqstream.py\", line 607, in _handle_recv\n",
      "    self._run_callback(callback, msg)\n",
      "  File \"/home/degnaiyu/.local/lib/python3.10/site-packages/zmq/eventloop/zmqstream.py\", line 557, in _run_callback\n",
      "    callback(*args, **kwargs)\n",
      "  File \"/usr/lib/python3/dist-packages/ipykernel/iostream.py\", line 126, in _handle_event\n",
      "    event_f()\n",
      "  File \"/usr/lib/python3/dist-packages/ipykernel/iostream.py\", line 497, in _flush\n",
      "    self.session.send(self.pub_thread, 'stream', content=content,\n",
      "  File \"/usr/lib/python3/dist-packages/jupyter_client/session.py\", line 842, in send\n",
      "    to_send = self.serialize(msg, ident)\n",
      "  File \"/usr/lib/python3/dist-packages/jupyter_client/session.py\", line 716, in serialize\n",
      "    content = self.pack(content)\n",
      "  File \"/usr/lib/python3/dist-packages/jupyter_client/session.py\", line 110, in json_packer\n",
      "    ).encode(\"utf8\")\n",
      "UnicodeEncodeError: 'utf-8' codec can't encode characters in position 536-537: surrogates not allowed\n",
      "IOStream.flush timed out\n",
      "IOStream.flush timed out\n"
     ]
    }
   ],
   "source": [
    "import thermalisationfortran\n",
    "import numpy as np  "
   ]
  },
  {
   "cell_type": "code",
   "execution_count": null,
   "metadata": {},
   "outputs": [
    {
     "data": {
      "text/plain": [
       "array([[[4.17022005e-01, 7.20324493e-01, 1.14374817e-04],\n",
       "        [3.02332573e-01, 1.46755891e-01, 9.23385948e-02],\n",
       "        [1.86260211e-01, 3.45560727e-01, 3.96767474e-01]],\n",
       "\n",
       "       [[5.38816734e-01, 4.19194514e-01, 6.85219500e-01],\n",
       "        [2.04452250e-01, 8.78117436e-01, 2.73875932e-02],\n",
       "        [6.70467510e-01, 4.17304802e-01, 5.58689828e-01]],\n",
       "\n",
       "       [[1.40386939e-01, 1.98101489e-01, 8.00744569e-01],\n",
       "        [9.68261576e-01, 3.13424178e-01, 6.92322616e-01],\n",
       "        [8.76389152e-01, 8.94606664e-01, 8.50442114e-02]]])"
      ]
     },
     "execution_count": 2,
     "metadata": {},
     "output_type": "execute_result"
    }
   ],
   "source": [
    "np.random.seed(1)\n",
    "arr = np.random.random((3,3,3))\n",
    "arr"
   ]
  },
  {
   "cell_type": "code",
   "execution_count": 3,
   "metadata": {},
   "outputs": [],
   "source": [
    "thermalisationfortran.thermalisationfortran.input_array = arr"
   ]
  },
  {
   "cell_type": "code",
   "execution_count": 3,
   "metadata": {},
   "outputs": [
    {
     "name": "stdout",
     "output_type": "stream",
     "text": [
      " kirito\n",
      " ERROR: input array not allocated!\n"
     ]
    }
   ],
   "source": [
    "result = thermalisationfortran.thermalisationfortran.fortranwalker(\"kirito\")\n"
   ]
  },
  {
   "cell_type": "code",
   "execution_count": 4,
   "metadata": {},
   "outputs": [],
   "source": [
    "result "
   ]
  },
  {
   "cell_type": "code",
   "execution_count": 9,
   "metadata": {},
   "outputs": [
    {
     "data": {
      "text/plain": [
       "array([[[4.17021990e-01, 7.20324516e-01, 1.14374816e-04],\n",
       "        [3.02332580e-01, 1.46755889e-01, 9.23385918e-02],\n",
       "        [1.86260208e-01, 3.45560730e-01, 3.96767467e-01]],\n",
       "\n",
       "       [[5.38816750e-01, 4.19194520e-01, 6.85219526e-01],\n",
       "        [2.04452246e-01, 8.78117442e-01, 2.73875929e-02],\n",
       "        [6.70467496e-01, 4.17304814e-01, 5.58689833e-01]],\n",
       "\n",
       "       [[1.40386939e-01, 1.98101491e-01, 8.00744593e-01],\n",
       "        [9.68261600e-01, 3.13424170e-01, 6.92322612e-01],\n",
       "        [8.76389146e-01, 8.94606650e-01, 8.50442126e-02]]], dtype=float32)"
      ]
     },
     "execution_count": 9,
     "metadata": {},
     "output_type": "execute_result"
    }
   ],
   "source": [
    "thermalisationfortran.thermalisationfortran.input_array "
   ]
  },
  {
   "cell_type": "code",
   "execution_count": 1,
   "metadata": {},
   "outputs": [
    {
     "data": {
      "text/plain": [
       "{'complex': {'kc8': 'complex_double'}}"
      ]
     },
     "execution_count": 1,
     "metadata": {},
     "output_type": "execute_result"
    }
   ],
   "source": [
    "{'complex': {'kc4': 'complex_float'},'complex': {'kc8': 'complex_double'}}"
   ]
  },
  {
   "cell_type": "code",
   "execution_count": null,
   "metadata": {},
   "outputs": [],
   "source": []
  }
 ],
 "metadata": {
  "kernelspec": {
   "display_name": "Python 3",
   "language": "python",
   "name": "python3"
  },
  "language_info": {
   "codemirror_mode": {
    "name": "ipython",
    "version": 3
   },
   "file_extension": ".py",
   "mimetype": "text/x-python",
   "name": "python",
   "nbconvert_exporter": "python",
   "pygments_lexer": "ipython3",
   "version": "3.10.6"
  },
  "orig_nbformat": 4,
  "vscode": {
   "interpreter": {
    "hash": "916dbcbb3f70747c44a77c7bcd40155683ae19c65e1c03b4aa3499c5328201f1"
   }
  }
 },
 "nbformat": 4,
 "nbformat_minor": 2
}
