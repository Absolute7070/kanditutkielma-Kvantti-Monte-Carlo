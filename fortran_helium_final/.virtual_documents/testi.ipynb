import thermalisationfortran
import numpy as np  


np.random.seed(1)
arr = np.random.random((3,3,3))
arr


thermalisationfortran.thermalisationfortran.input_array = arr


result = thermalisationfortran.thermalisationfortran.fortranwalker("kirito")



result 


thermalisationfortran.thermalisationfortran.input_array 


{'complex': {'kc4': 'complex_float'},'complex': {'kc8': 'complex_double'}}



